{
 "cells": [
  {
   "cell_type": "code",
   "execution_count": 12,
   "metadata": {},
   "outputs": [],
   "source": [
    "from datetime import datetime, timedelta\n",
    "\n",
    "class Material:\n",
    "    def __init__(self, titulo):\n",
    "        self.titulo = titulo\n",
    "        self.disponible = True\n",
    "\n",
    "    def mostrar_info(self):\n",
    "        return f\"{self.titulo} - {'Disponible' if self.disponible else 'No disponible'}\"\n",
    "\n",
    "    def actualizar_estado(self, estado):\n",
    "        self.disponible = estado\n"
   ]
  },
  {
   "cell_type": "code",
   "execution_count": 13,
   "metadata": {},
   "outputs": [],
   "source": [
    "class Libro(Material):\n",
    "    def __init__(self, titulo, autor, genero):\n",
    "        super().__init__(titulo)\n",
    "        self.autor = autor\n",
    "        self.genero = genero\n",
    "\n",
    "class Revista(Material):\n",
    "    def __init__(self, titulo, edicion, periocidad):\n",
    "        super().__init__(titulo)\n",
    "        self.edicion = edicion\n",
    "        self.periocidad = periocidad\n",
    "\n",
    "class MaterialDigital(Material):\n",
    "    def __init__(self, titulo, tipo_archivo, enlace):\n",
    "        super().__init__(titulo)\n",
    "        self.tipo_archivo = tipo_archivo\n",
    "        self.enlace = enlace\n",
    "\n"
   ]
  },
  {
   "cell_type": "code",
   "execution_count": 26,
   "metadata": {},
   "outputs": [],
   "source": [
    "libro1 = Libro(\"1984\", \"George Orwell\", \"Ficción\")\n",
    "libro2 = Libro(\"Cien Años de Soledad\", \"Gabriela Garcia\", \"Realismo\")\n",
    "libro3 = Libro(\"Crónica de una muerte anunciada\", \"Gabriela Garcia\", \"Misterio\")\n",
    "\n",
    "revista1 = Revista(\"National Geographic\", \" Edicion 2024\", \"Mensual\")\n",
    "revista2 = Revista(\"Forbes\", \"Edicion 2023\", \"Mensual\")\n",
    "revista3 = Revista(\"Popular Science\", \"Edicion Primavera\", \"Trismetral\")\n",
    "\n",
    "mdigital = MaterialDigital(\"Curso de Python Avanzado\", \"PDF\", \"https://curso-python.com\")\n",
    "mdigita2 = MaterialDigital(\"Enciclopedia de Ciencia Moderna\", \"PDF\", \"https://ciencia-moderna.org\")"
   ]
  },
  {
   "cell_type": "code",
   "execution_count": 2,
   "metadata": {},
   "outputs": [],
   "source": [
    "class Persona:\n",
    "    def __init__(self, nombre, email):\n",
    "        self.nombre = nombre\n",
    "        self.email = email"
   ]
  },
  {
   "cell_type": "code",
   "execution_count": 3,
   "metadata": {},
   "outputs": [],
   "source": [
    "class Usuario(Persona):\n",
    "    def __init__(self, nombre, email, id_usuario):\n",
    "        super().__init__(nombre, email)\n",
    "        self.id_usuario = id_usuario\n",
    "        self.material_prestado = []\n",
    "        self.multas = 0\n",
    "    \n",
    "    def prestar_material(self, material):\n",
    "        if material.disponible:\n",
    "            self.material_prestado.append(material)\n",
    "            material.actualizar_estado(False)\n",
    "            print(f\"{material.titulo} prestado a {self.nombre}\")\n",
    "        else:\n",
    "            print(\"Material no disponible para préstamo\")\n",
    "    \n",
    "    def devolver_material(self, material, fecha_devolucion):\n",
    "        if material in self.material_prestado:\n",
    "            self.material_prestado.remove(material)\n",
    "            material.actualizar_estado(True)\n",
    "            print(f\"{material.titulo} devuelto por {self.nombre}\")\n",
    "            \n",
    "            if fecha_devolucion > datetime.now():\n",
    "                print(\"Devolución tardía. Se aplicará una multa.\")\n",
    "                self.multas += 50  \n",
    "        else:\n",
    "            print(\"Este material no pertenece a este usuario.\")\n",
    "\n",
    "\n",
    "\n",
    "    def mostrar_estado(self):\n",
    "        print(f\"Usuario: {self.nombre}, Multas acumuladas: ${self.multas}\")\n",
    "        print(\"Materiales prestados:\")\n",
    "        for material in self.material_prestado:\n",
    "            print(f\"- {material.titulo}\")\n",
    "\n",
    "\n",
    "    "
   ]
  },
  {
   "cell_type": "code",
   "execution_count": 21,
   "metadata": {},
   "outputs": [],
   "source": [
    "user1 = Usuario(\"Juan\", \"juan@gamil.com\", 2303)\n",
    "user2 = Usuario(\"Luna\", \"luna@gmail.com\", 3203)\n",
    "user3 = Usuario(\"Daniel\", \"daniel@gmail.com\", 5768)"
   ]
  },
  {
   "cell_type": "code",
   "execution_count": 71,
   "metadata": {},
   "outputs": [
    {
     "name": "stdout",
     "output_type": "stream",
     "text": [
      "Crónica de una muerte anunciada prestado a Juan\n",
      "Este material no pertenece a este usuario.\n",
      "Crónica de una muerte anunciada devuelto por Juan\n",
      "Usuario: Juan, Multas acumuladas: $650\n",
      "Materiales prestados:\n"
     ]
    }
   ],
   "source": [
    "user1.prestar_material(libro3)\n",
    "fecha_devolucion = datetime.now() - timedelta(days=2)\n",
    "fecha_devolucion = datetime.now() - timedelta(days=2)\n",
    "user1.devolver_material(libro1, fecha_devolucion)\n",
    "\n",
    "user1.devolver_material(libro3, fecha_devolucion)\n",
    "\n",
    "user1.mostrar_estado()"
   ]
  },
  {
   "cell_type": "code",
   "execution_count": 37,
   "metadata": {},
   "outputs": [
    {
     "name": "stdout",
     "output_type": "stream",
     "text": [
      "Material no disponible para préstamo\n"
     ]
    }
   ],
   "source": [
    "user2.prestar_material(revista1)\n",
    "fecha_devolucion = datetime.now() + timedelta(days=5)"
   ]
  },
  {
   "cell_type": "code",
   "execution_count": 38,
   "metadata": {},
   "outputs": [
    {
     "name": "stdout",
     "output_type": "stream",
     "text": [
      "Enciclopedia de Ciencia Moderna prestado a Daniel\n"
     ]
    }
   ],
   "source": [
    "user3.prestar_material(mdigita2)"
   ]
  },
  {
   "cell_type": "code",
   "execution_count": 16,
   "metadata": {},
   "outputs": [],
   "source": [
    "class Bibliotecario(Persona):\n",
    "    def __init__(self, nombre, email, id_bibliotecario):\n",
    "        super().__init__(nombre, email)\n",
    "        self.id_bibliotecario = id_bibliotecario\n",
    "\n",
    "    def agregar_material(self, sucursal, material):\n",
    "        sucursal.materiales.append(material)\n",
    "        print(f\"Material {material.titulo} añadido al sistema\")\n",
    "\n",
    "    def transferir_material(self, material, sucursal_origen, sucursal_destino):\n",
    "        if material in sucursal_origen.materiales:\n",
    "            sucursal_origen.materiales.remove(material)\n",
    "            sucursal_destino.materiales.append(material)\n",
    "            print(f\"{material.titulo} transferido a {sucursal_destino.nombre}\")\n",
    "        else:\n",
    "            print(\"El material no está en la sucursal origen\")\n",
    "        \n"
   ]
  },
  {
   "cell_type": "code",
   "execution_count": 29,
   "metadata": {},
   "outputs": [
    {
     "name": "stdout",
     "output_type": "stream",
     "text": [
      "Material 1984 añadido al sistema\n",
      "Material Cien Años de Soledad añadido al sistema\n",
      "Material Crónica de una muerte anunciada añadido al sistema\n",
      "Material National Geographic añadido al sistema\n",
      "Material Forbes añadido al sistema\n",
      "Material Popular Science añadido al sistema\n",
      "Material Curso de Python Avanzado añadido al sistema\n",
      "Material Enciclopedia de Ciencia Moderna añadido al sistema\n"
     ]
    }
   ],
   "source": [
    "biblio1 = Bibliotecario(\"Ana\", \"ana@gmail.com\", 2345)\n",
    "\n",
    "biblio1.agregar_material(sucursal1, libro1)\n",
    "biblio1.agregar_material(sucursal1, libro2)\n",
    "biblio1.agregar_material(sucursal1, libro3)\n",
    "\n",
    "biblio1.agregar_material(sucursal1, revista1)\n",
    "biblio1.agregar_material(sucursal1, revista2)\n",
    "biblio1.agregar_material(sucursal1, revista3)\n",
    "\n",
    "biblio1.agregar_material(sucursal1, mdigital)\n",
    "biblio1.agregar_material(sucursal1, mdigita2)\n"
   ]
  },
  {
   "cell_type": "code",
   "execution_count": 17,
   "metadata": {},
   "outputs": [],
   "source": [
    "class Sucursal:\n",
    "    def __init__(self, nombre):\n",
    "        self.nombre = nombre\n",
    "        self.materiales = []\n",
    "        self.usuarios = []\n",
    "        self.bibliotecarios = []\n",
    "\n",
    "    def registrar_usuario(self, usuario):\n",
    "        self.usuarios.append(usuario)\n",
    "        print(f\"Usuario {usuario.nombre} registrado en {self.nombre}\")\n",
    "\n",
    "    def buscar_material(self, titulo):\n",
    "        for material in self.materiales:\n",
    "            if material.titulo.lower() == titulo.lower():\n",
    "                return material.mostrar_info()\n",
    "        return \"Material no encontrado\"\n",
    "\n"
   ]
  },
  {
   "cell_type": "code",
   "execution_count": 23,
   "metadata": {},
   "outputs": [
    {
     "name": "stdout",
     "output_type": "stream",
     "text": [
      "Usuario Juan registrado en Biblioteca Central\n",
      "Usuario Luna registrado en Biblioteca Central\n",
      "Usuario Daniel registrado en Biblioteca Central\n"
     ]
    }
   ],
   "source": [
    "sucursal1 = Sucursal(\"Biblioteca Central\")\n",
    "\n",
    "sucursal1.registrar_usuario(user1)\n",
    "sucursal1.registrar_usuario(user2)\n",
    "sucursal1.registrar_usuario(user3)\n",
    "\n"
   ]
  }
 ],
 "metadata": {
  "kernelspec": {
   "display_name": "Python 3",
   "language": "python",
   "name": "python3"
  },
  "language_info": {
   "codemirror_mode": {
    "name": "ipython",
    "version": 3
   },
   "file_extension": ".py",
   "mimetype": "text/x-python",
   "name": "python",
   "nbconvert_exporter": "python",
   "pygments_lexer": "ipython3",
   "version": "3.13.1"
  }
 },
 "nbformat": 4,
 "nbformat_minor": 2
}
