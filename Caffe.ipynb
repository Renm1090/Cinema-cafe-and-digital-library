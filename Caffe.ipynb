{
 "cells": [
  {
   "cell_type": "markdown",
   "metadata": {},
   "source": [
    "Gestion de Pedidos en una Cafeteria"
   ]
  },
  {
   "cell_type": "code",
   "execution_count": 91,
   "metadata": {},
   "outputs": [],
   "source": [
    "class Persona:\n",
    "    list = []\n",
    "\n",
    "    def __init__(self, nombre, contacto):\n",
    "        self.nombre = nombre\n",
    "        self.contacto = contacto\n",
    "\n",
    "    def Registrar(self):\n",
    "        Persona.list.append(self)\n",
    "        print(f\"Persona registrada: {self.nombre} - {self.contacto}\")\n",
    "\n",
    "    def actualizar_datos(self, nombre, contacto):\n",
    "        self.nombre = nombre\n",
    "        self.contacto = contacto\n",
    "        print(\"Los datos han sido actualizados.\")\n",
    "\n",
    "    @classmethod\n",
    "    def personas_registradas(cls):\n",
    "        print(\"Personas Registradas:\")\n",
    "        for persona in cls.list:\n",
    "            print(f\"Nombre: {persona.nombre} - Contacto: {persona.contacto}\")\n"
   ]
  },
  {
   "cell_type": "code",
   "execution_count": 115,
   "metadata": {},
   "outputs": [],
   "source": [
    "class Cliente(Persona):\n",
    "    def __init__(self, nombre, contacto):\n",
    "        super().__init__(nombre, contacto)\n",
    "        self.historial_pedido = []\n",
    "\n",
    "    def RealizarPedido(self, pedido):\n",
    "        if not isinstance(pedido, Pedido):  \n",
    "            print(\"❌ Error: Debes pasar un objeto de la clase Pedido.\")\n",
    "            return\n",
    "        self.historial_pedido.append(pedido) \n",
    "        print(f\"\\n✅ Pedido realizado para {self.nombre}:\")\n",
    "        pedido.mostrar_pedido()  \n",
    "\n",
    "    def ConsultarHistorial(self):\n",
    "        if not self.historial_pedido:  \n",
    "            print(f\"ℹ️ {self.nombre} no tiene pedidos en su historial.\")\n",
    "        else:\n",
    "            print(f\"\\n📜 Historial de pedidos de {self.nombre}:\")\n",
    "            for i, pedido in enumerate(self.historial_pedido, 1):\n",
    "                print(f\"📦 Pedido {i}:\")\n",
    "                pedido.mostrar_pedido()"
   ]
  },
  {
   "cell_type": "code",
   "execution_count": 93,
   "metadata": {},
   "outputs": [
    {
     "name": "stdout",
     "output_type": "stream",
     "text": [
      "Persona registrada: Ana - ana@email.com\n",
      "Persona registrada: Carlos - carlos@email.com\n",
      "Personas Registradas:\n",
      "Nombre: Ana - Contacto: ana@email.com\n",
      "Nombre: Carlos - Contacto: carlos@email.com\n"
     ]
    }
   ],
   "source": [
    "cliente1 =  Persona(\"Ana\", \"ana@email.com\")\n",
    "cliente2 = Persona(\"Carlos\", \"carlos@email.com\")\n",
    "\n",
    "cliente1.Registrar()\n",
    "cliente2.Registrar()\n",
    "\n",
    "Persona.personas_registradas()\n"
   ]
  },
  {
   "cell_type": "code",
   "execution_count": 94,
   "metadata": {},
   "outputs": [],
   "source": [
    "class Empleado(Persona):\n",
    "    def __init__(self, nombre, contacto, rol):\n",
    "        super().__init__(nombre, contacto)\n",
    "        self.rol = rol\n",
    "\n",
    "    def tarea(self):\n",
    "        roles = {\n",
    "            \"Mesero\": \"toma las órdenes de los clientes.\",\n",
    "            \"Barista\": \"prepara bebidas y hace trucos.\",\n",
    "            \"Gerente\": \"dirige la cafetería.\"\n",
    "        }\n",
    "        print(f\"{self.nombre} ({self.rol}) {roles.get(self.rol, 'realiza sus tareas en la cafetería.')}\")"
   ]
  },
  {
   "cell_type": "code",
   "execution_count": 95,
   "metadata": {},
   "outputs": [
    {
     "name": "stdout",
     "output_type": "stream",
     "text": [
      "Persona registrada: Luis - luis@email.com\n",
      "Persona registrada: María - maria@email.com\n",
      "Persona registrada: Jaimy - jaimy@email.com\n",
      "Personas Registradas:\n",
      "Nombre: Ana - Contacto: ana@email.com\n",
      "Nombre: Carlos - Contacto: carlos@email.com\n",
      "Nombre: Luis - Contacto: luis@email.com\n",
      "Nombre: María - Contacto: maria@email.com\n",
      "Nombre: Jaimy - Contacto: jaimy@email.com\n"
     ]
    }
   ],
   "source": [
    "empleado1 = Empleado(\"Luis\", \"luis@email.com\", \"Mesero\")\n",
    "empleado2 = Empleado(\"María\", \"maria@email.com\", \"Barista\")\n",
    "empleado3 = Empleado(\"Jaimy\", \"jaimy@email.com\", \"Gerente\")\n",
    "\n",
    "empleado1.Registrar()\n",
    "empleado2.Registrar()\n",
    "empleado3.Registrar()\n",
    "\n",
    "Persona.personas_registradas()\n"
   ]
  },
  {
   "cell_type": "code",
   "execution_count": 96,
   "metadata": {},
   "outputs": [
    {
     "name": "stdout",
     "output_type": "stream",
     "text": [
      "Luis (Mesero) toma las órdenes de los clientes.\n",
      "María (Barista) prepara bebidas y hace trucos.\n",
      "Jaimy (Gerente) dirige la cafetería.\n"
     ]
    }
   ],
   "source": [
    "empleado1.tarea()\n",
    "empleado2.tarea()\n",
    "empleado3.tarea()\n"
   ]
  },
  {
   "cell_type": "code",
   "execution_count": 97,
   "metadata": {},
   "outputs": [],
   "source": [
    "class ProductoBase:\n",
    "    def __init__(self, nombre, precio):\n",
    "        self.nombre = nombre\n",
    "        self.precio = precio"
   ]
  },
  {
   "cell_type": "code",
   "execution_count": 98,
   "metadata": {},
   "outputs": [],
   "source": [
    "class Bebida(ProductoBase):\n",
    "    tipos_permitidos = [\"caliente\", \"fría\"]\n",
    "\n",
    "    def __init__(self, nombre, tamaño, tipo, personalizar, precio):\n",
    "        if tipo not in self.tipos_permitidos:\n",
    "            raise ValueError(\"Tipo de bebida no válido. Debe ser 'caliente' o 'fría'\")\n",
    "        super().__init__(nombre, precio)\n",
    "        self.tamaño = tamaño\n",
    "        self.tipo = tipo\n",
    "        self.personalizar = personalizar\n",
    "\n",
    "    def menu_bebida(self):\n",
    "        print(f\"{self.nombre} ({self.tipo}, {self.tamaño}) - ${self.precio}\")"
   ]
  },
  {
   "cell_type": "code",
   "execution_count": 99,
   "metadata": {},
   "outputs": [],
   "source": [
    "bebida1 = Bebida(\"Café Latte\", \"Grande\", \"caliente\", \"Leche de almendra\", 50)\n",
    "bebida2 = Bebida(\"Té Helado\", \"Mediano\", \"fría\", \"Sin azúcar\", 40)\n"
   ]
  },
  {
   "cell_type": "code",
   "execution_count": 100,
   "metadata": {},
   "outputs": [],
   "source": [
    "class Postre(ProductoBase):\n",
    "    def __init__(self, nombre, tipo_postre, precio):\n",
    "        super().__init__(nombre, precio)\n",
    "        self.tipo_postre = tipo_postre\n",
    "\n",
    "    def menu_postre(self):\n",
    "        print(f\"{self.nombre} ({self.tipo_postre}) - ${self.precio}\")"
   ]
  },
  {
   "cell_type": "code",
   "execution_count": 101,
   "metadata": {},
   "outputs": [],
   "source": [
    "postre1 = Postre(\"Brownie\", \"con gluten\", 30)\n",
    "postre2 = Postre(\"Galleta Vegana\", \"sin gluten\", 25)"
   ]
  },
  {
   "cell_type": "code",
   "execution_count": 102,
   "metadata": {},
   "outputs": [],
   "source": [
    "class Inventario:\n",
    "    def __init__(self):\n",
    "        self.items = {}\n",
    "\n",
    "    def agregar_item(self, nombre, cantidad):\n",
    "        if nombre in self.items:\n",
    "            self.items[nombre] += cantidad\n",
    "        else:\n",
    "            self.items[nombre] = cantidad\n",
    "        print(f\"Agregado {cantidad} de {nombre} al inventario.\")\n",
    "\n",
    "    def verificar_stock(self, nombre, cantidad):\n",
    "        return self.items.get(nombre, 0) >= cantidad\n",
    "\n",
    "    def actualizar_stock(self, nombre, cantidad):\n",
    "        if self.verificar_stock(nombre, cantidad):\n",
    "            self.items[nombre] -= cantidad\n",
    "            print(f\"Se ha usado {cantidad} de {nombre}.\")\n",
    "        else:\n",
    "            print(f\"No hay suficiente stock de {nombre}.\")"
   ]
  },
  {
   "cell_type": "code",
   "execution_count": 103,
   "metadata": {},
   "outputs": [
    {
     "name": "stdout",
     "output_type": "stream",
     "text": [
      "Agregado 50 de cafe al inventario.\n",
      "Agregado 5 de Té al inventario.\n",
      "Agregado 3 de Leche de almendra al inventario.\n",
      "Agregado 8 de Azúcar al inventario.\n"
     ]
    }
   ],
   "source": [
    "inventario = Inventario()\n",
    "inventario.agregar_item(\"cafe\", 50)\n",
    "inventario.agregar_item(\"Té\", 5)\n",
    "inventario.agregar_item(\"Leche de almendra\", 3)\n",
    "inventario.agregar_item(\"Azúcar\", 8)"
   ]
  },
  {
   "cell_type": "code",
   "execution_count": 104,
   "metadata": {},
   "outputs": [],
   "source": [
    "class Pedido:\n",
    "    def __init__(self, cliente):\n",
    "        self.cliente = cliente\n",
    "        self.productos = []\n",
    "        self.estado = \"Pendiente\"\n",
    "        self.total = 0\n",
    "\n",
    "    def agregar_producto(self, producto):\n",
    "        self.productos.append(producto)\n",
    "        self.total += producto.precio\n",
    "        print(f\"{producto.nombre} agregado al pedido.\")\n",
    "\n",
    "    def mostrar_pedido(self):\n",
    "        print(f\"Pedido de {self.cliente.nombre} - Estado: {self.estado}\")\n",
    "        for producto in self.productos:\n",
    "            print(f\"{producto.nombre} - ${producto.precio}\")\n",
    "        print(f\"Total: ${self.total}\")\n",
    "\n",
    "    def cambiar_estado(self, nuevo_estado):\n",
    "        self.estado = nuevo_estado\n",
    "        print(f\"El pedido ahora está en estado: {self.estado}\")\n"
   ]
  },
  {
   "cell_type": "code",
   "execution_count": 105,
   "metadata": {},
   "outputs": [],
   "source": [
    "class Promocion:\n",
    "    def __init__(self, nombre, descripcion, descuento):\n",
    "        self.nombre = nombre\n",
    "        self.descripcion = descripcion\n",
    "        self.descuento = descuento\n",
    "\n",
    "    def aplicar_descuento(self, pedido):\n",
    "        pedido.total -= self.descuento\n",
    "        print(f\"Descuento aplicado: ${self.descuento}. Nuevo total: ${pedido.total}\")"
   ]
  },
  {
   "cell_type": "code",
   "execution_count": 106,
   "metadata": {},
   "outputs": [],
   "source": [
    "promo = Promocion(\"Descuento de Cliente Frecuente\", \"Descuento por fidelidad\", 10)"
   ]
  },
  {
   "cell_type": "code",
   "execution_count": 117,
   "metadata": {},
   "outputs": [
    {
     "name": "stdout",
     "output_type": "stream",
     "text": [
      "Café Latte agregado al pedido.\n",
      "Brownie agregado al pedido.\n",
      "Pedido de Ana - Estado: Pendiente\n",
      "Café Latte - $50\n",
      "Brownie - $30\n",
      "Total: $80\n",
      "El pedido ahora está en estado: En preparación\n",
      "El pedido ahora está en estado: Entregado\n",
      "Descuento aplicado: $10. Nuevo total: $70\n",
      "\n",
      "✅ Pedido realizado para Ana:\n",
      "Pedido de Ana - Estado: Entregado\n",
      "Café Latte - $50\n",
      "Brownie - $30\n",
      "Total: $70\n",
      "\n",
      "📜 Historial de pedidos de Ana:\n",
      "📦 Pedido 1:\n",
      "Pedido de Ana - Estado: Entregado\n",
      "Café Latte - $50\n",
      "Brownie - $30\n",
      "Total: $70\n"
     ]
    }
   ],
   "source": [
    "cliente1 = Cliente(\"Ana\", \"ana@email.com\")  # Create an instance of Cliente\n",
    "\n",
    "pedido1 = Pedido(cliente1)\n",
    "pedido1.agregar_producto(bebida1)\n",
    "pedido1.agregar_producto(postre1)\n",
    "pedido1.mostrar_pedido()\n",
    "\n",
    "\n",
    "if inventario.verificar_stock(\"Café\", 1):\n",
    "    inventario.actualizar_stock(\"Café\", 1)\n",
    "\n",
    "\n",
    "pedido1.cambiar_estado(\"En preparación\")\n",
    "pedido1.cambiar_estado(\"Entregado\")\n",
    "\n",
    "\n",
    "promo.aplicar_descuento(pedido1)\n",
    "cliente1.RealizarPedido(pedido=pedido1)\n",
    "cliente1.ConsultarHistorial()"
   ]
  }
 ],
 "metadata": {
  "kernelspec": {
   "display_name": "Python 3",
   "language": "python",
   "name": "python3"
  },
  "language_info": {
   "codemirror_mode": {
    "name": "ipython",
    "version": 3
   },
   "file_extension": ".py",
   "mimetype": "text/x-python",
   "name": "python",
   "nbconvert_exporter": "python",
   "pygments_lexer": "ipython3",
   "version": "3.13.1"
  }
 },
 "nbformat": 4,
 "nbformat_minor": 2
}
