{
 "cells": [
  {
   "cell_type": "markdown",
   "metadata": {},
   "source": [
    "Sistema de Reserva para un CIne"
   ]
  },
  {
   "cell_type": "code",
   "execution_count": 1,
   "metadata": {},
   "outputs": [],
   "source": [
    "class Persona:\n",
    "    lista = []\n",
    "\n",
    "    def __init__(self, nombre, correo):\n",
    "        self.nombre = nombre\n",
    "        self.correo = correo\n",
    "\n",
    "    def Registrar(self):\n",
    "        Persona.lista.append(self)\n",
    "        print(f\"Persona registrada: {self.nombre} - {self.correo}\")\n",
    "\n",
    "    def ActualizarDatos(self, nombre, correo):\n",
    "        self.nombre = nombre\n",
    "        self.correo = correo\n",
    "        print(f\"Los datos han sido actualizados\")\n",
    "\n",
    "    @classmethod\n",
    "    def personas_registradas(cls):\n",
    "        print(f\"Personas registradas\")\n",
    "        for persona in cls.lista:\n",
    "            print(f\"Nombre: {persona.nombre} - Correo: {persona.correo}\")"
   ]
  },
  {
   "cell_type": "code",
   "execution_count": 14,
   "metadata": {},
   "outputs": [
    {
     "name": "stdout",
     "output_type": "stream",
     "text": [
      "Persona registrada: Luis - luis@gamil.com\n",
      "Persona registrada: Juan - juan@gmail.com\n",
      "Persona registrada: Pedro - pedro@gmail.com\n",
      "Persona registrada: Juju - juju@gmail.com\n",
      "Persona registrada: Jaimy - Jaimy@gmail.com\n",
      "Persona registrada: Isaac - isaac@gmail.com\n",
      "Personas registradas\n",
      "Nombre: Luis - Correo: luis@gamil.com\n",
      "Nombre: Juan - Correo: juan@gmail.com\n",
      "Nombre: Pedro - Correo: pedro@gmail.com\n",
      "Nombre: Juju - Correo: juju@gmail.com\n",
      "Nombre: Jaimy - Correo: Jaimy@gmail.com\n",
      "Nombre: Isaac - Correo: isaac@gmail.com\n"
     ]
    }
   ],
   "source": [
    "p1 = Persona(\"Luis\", \"luis@gamil.com\")\n",
    "p2 = Persona(\"Juan\", \"juan@gmail.com\")\n",
    "p3 = Persona(\"Pedro\", \"pedro@gmail.com\")\n",
    "\n",
    "em1 = Persona(\"Juju\", \"juju@gmail.com\")\n",
    "em2 = Persona(\"Jaimy\", \"Jaimy@gmail.com\")\n",
    "em3 = Persona(\"Isaac\", \"isaac@gmail.com\")\n",
    "\n",
    "p1.Registrar()\n",
    "p2.Registrar()\n",
    "p3.Registrar()\n",
    "em1.Registrar()\n",
    "em2.Registrar()\n",
    "em3.Registrar()\n",
    "\n",
    "Persona.personas_registradas()"
   ]
  },
  {
   "cell_type": "code",
   "execution_count": 7,
   "metadata": {},
   "outputs": [],
   "source": [
    "class Usuario(Persona):\n",
    "    def __init__(self, nombre, correo):\n",
    "        super().__init__(nombre, correo)\n",
    "        self.numreserva = []\n",
    "\n",
    "    def reserva(self, funcion, asiento, promocion=None):\n",
    "        if any(r.asiento == asiento and r.funcion == funcion for r in self.numreserva):\n",
    "            print(f\"El asiento {asiento} ya está reservado por {self.nombre}.\")\n",
    "            return None\n",
    "\n",
    "        nueva_reserva = Reserva(self, funcion, asiento, promocion)\n",
    "        if nueva_reserva.ConfirmarReserva(): \n",
    "            self.numreserva.append(nueva_reserva)\n",
    "            return nueva_reserva\n",
    "        return None\n",
    "\n",
    "    def cancelar_reserva(self, asiento):\n",
    "        for reserva in self.numreserva:\n",
    "            if reserva.asiento == asiento:\n",
    "                reserva.CancelarReserva()\n",
    "                self.numreserva.remove(reserva)\n",
    "                return\n",
    "        print(f\"No se encontró una reserva para el asiento {asiento}.\")\n",
    "\n",
    "    def acceder_promo(self):\n",
    "        print(f\"{self.nombre} accedió a una promoción.\")\n",
    "\n",
    "\n",
    "class Reserva:\n",
    "    def __init__(self, usuario, funcion, asiento, promocion=None):\n",
    "        self.usuario = usuario\n",
    "        self.funcion = funcion\n",
    "        self.asiento = asiento\n",
    "        self.promocion = promocion\n",
    "\n",
    "    def ConfirmarReserva(self):\n",
    "        if self.funcion.reservar_asientos(self.asiento):\n",
    "            print(f\"Reserva confirmada para {self.usuario.nombre} en asiento {self.asiento} para la función {self.funcion.pelicula.titulo}.\")\n",
    "            if self.promocion:\n",
    "                self.promocion.Aplicar_promo(self.usuario)\n",
    "            return True\n",
    "        print(f\"No se pudo reservar el asiento {self.asiento} para {self.usuario.nombre}.\") \n",
    "        return False\n",
    "\n",
    "    def CancelarReserva(self):\n",
    "        print(f\"Reserva cancelada para {self.usuario.nombre} en asiento {self.asiento}.\")\n",
    "        self.funcion.liberar_asiento(self.asiento)"
   ]
  },
  {
   "cell_type": "code",
   "execution_count": 28,
   "metadata": {},
   "outputs": [],
   "source": [
    "user1 = Usuario(\"Luis\", \"luis@gmail.com\")\n",
    "user2 = Usuario(\"Juan\", \"juan@gmail.com\")\n",
    "user3 = Usuario(\"Pedro\", \"pedro@gmail.com\")"
   ]
  },
  {
   "cell_type": "code",
   "execution_count": 18,
   "metadata": {},
   "outputs": [],
   "source": [
    "class Empleado(Persona):\n",
    "    def __init__(self, nombre, correo, rol):\n",
    "        super().__init__(nombre, correo)\n",
    "        self.rol = rol\n",
    "\n",
    "    def realizar_tarea(self):\n",
    "        if self.rol in [\"taquillero\", \"administrador\"]:\n",
    "            print(f\"{self.nombre}, con rol {self.rol}, puede gestionar funciones.\")\n",
    "        else:\n",
    "            print(f\"{self.nombre}, con rol {self.rol} solo realiza tareas de limpieza.\")\n",
    "\n",
    "    def agregar_funcion(self, funciones, funcion):\n",
    "        if self.rol in [\"taquillero\", \"administrador\"]:\n",
    "            funciones.append(funcion)\n",
    "            print(f\"{self.nombre} agregó la función {funcion.pelicula.titulo} a las {funcion.hora}\")\n",
    "        else:\n",
    "            print(f\"{self.nombre} no tiene permisos para agregar funciones.\")\n",
    "\n"
   ]
  },
  {
   "cell_type": "code",
   "execution_count": 20,
   "metadata": {},
   "outputs": [
    {
     "name": "stdout",
     "output_type": "stream",
     "text": [
      "Juju, con rol administrador, puede gestionar funciones.\n",
      "Jaimy, con rol taquillero, puede gestionar funciones.\n",
      "Isaac, con rol limpieza solo realiza tareas de limpieza.\n"
     ]
    }
   ],
   "source": [
    "em1 = Empleado(\"Juju\", \"juju@gmail.com\", \"administrador\")\n",
    "em2 = Empleado(\"Jaimy\", \"jaimy@gmail.com\", \"taquillero\")\n",
    "em3 = Empleado(\"Isaac\", \"isaac@gmail.com\", \"limpieza\")\n",
    "\n",
    "em1.realizar_tarea()\n",
    "em2.realizar_tarea()\n",
    "em3.realizar_tarea()"
   ]
  },
  {
   "cell_type": "code",
   "execution_count": 17,
   "metadata": {},
   "outputs": [],
   "source": [
    "class Espacio:\n",
    "    def __init__(self, tamaño, identificador):\n",
    "        self.tamaño = tamaño\n",
    "        self.identicador = identificador\n",
    "\n",
    "    def descripcion(self):\n",
    "        print(f\"El edificio tiene un tamaño de {self.tamaño} m y su ID es {self.identicador}\")"
   ]
  },
  {
   "cell_type": "code",
   "execution_count": 21,
   "metadata": {},
   "outputs": [
    {
     "name": "stdout",
     "output_type": "stream",
     "text": [
      "El edificio tiene un tamaño de 110 m y su ID es 1234\n"
     ]
    }
   ],
   "source": [
    "lugar = Espacio(110 , 1234)\n",
    "lugar.descripcion()\n"
   ]
  },
  {
   "cell_type": "code",
   "execution_count": 9,
   "metadata": {},
   "outputs": [],
   "source": [
    "class Sala(Espacio):\n",
    "    TIPO = [\"2D\", \"3D\", \"IMAX\"]\n",
    "\n",
    "    def __init__(self, tipo):\n",
    "        if tipo not in self.TIPO:\n",
    "            raise ValueError(f\"Tipo de sala no válido. Debe ser de tipo {self.TIPO}\")\n",
    "        self.disponibilidad = True\n",
    "        self.tipo = tipo\n",
    "\n",
    "    def consultar_disponibilidad(self):\n",
    "        if self.disponibilidad:\n",
    "            print(f\"La sala está disponible\")\n",
    "        else:\n",
    "            print(f\"La sala no está disponible\")"
   ]
  },
  {
   "cell_type": "code",
   "execution_count": 22,
   "metadata": {},
   "outputs": [
    {
     "name": "stdout",
     "output_type": "stream",
     "text": [
      "La sala está disponible\n",
      "La sala está disponible\n",
      "La sala está disponible\n"
     ]
    }
   ],
   "source": [
    "sal1 = Sala(\"3D\")\n",
    "sal2 = Sala(\"2D\")\n",
    "sal3 = Sala(\"IMAX\")\n",
    "\n",
    "sal1.consultar_disponibilidad()\n",
    "sal2.consultar_disponibilidad()\n",
    "sal3.consultar_disponibilidad()"
   ]
  },
  {
   "cell_type": "code",
   "execution_count": 10,
   "metadata": {},
   "outputs": [],
   "source": [
    "class Zona_comida(Espacio):\n",
    "    def __init__(self):\n",
    "        self.menu = {}\n",
    "\n",
    "    def agregar_productos(self, producto, precio):\n",
    "        self.menu[producto] = precio\n",
    "\n",
    "    def mostrar_menu(self):\n",
    "        print(f\"Menú de Comida:\")\n",
    "        for producto, precio in self.menu.items():\n",
    "            print(f\"{producto}: ${precio}\")"
   ]
  },
  {
   "cell_type": "code",
   "execution_count": 23,
   "metadata": {},
   "outputs": [
    {
     "name": "stdout",
     "output_type": "stream",
     "text": [
      "Menú de Comida:\n",
      "Palomitas: $70\n",
      "Nachos: $45\n",
      "Coca-Cola: $30\n",
      "Agua: $20\n"
     ]
    }
   ],
   "source": [
    "men = Zona_comida()\n",
    "men.agregar_productos(\"Palomitas\", 70)\n",
    "men.agregar_productos(\"Nachos\", 45)\n",
    "men.agregar_productos(\"Coca-Cola\", 30)\n",
    "men.agregar_productos(\"Agua\", 20)\n",
    "\n",
    "men.mostrar_menu()"
   ]
  },
  {
   "cell_type": "code",
   "execution_count": 11,
   "metadata": {},
   "outputs": [],
   "source": [
    "class Pelicula:\n",
    "    def __init__(self, titulo, duracion, clasificacion, genero):\n",
    "        self.titulo = titulo\n",
    "        self.duracion = duracion\n",
    "        self.clasificacion = clasificacion\n",
    "        self.genero = genero\n",
    "\n",
    "    def Detalles(self):\n",
    "        print(f\"Título: {self.titulo} \\nDuración: {self.duracion} \\nClasificación: {self.clasificacion} \\nGénero: {self.genero}\\n------------------------\")"
   ]
  },
  {
   "cell_type": "code",
   "execution_count": 24,
   "metadata": {},
   "outputs": [
    {
     "name": "stdout",
     "output_type": "stream",
     "text": [
      "Título: Your Name \n",
      "Duración: 1:50 \n",
      "Clasificación: A \n",
      "Género: Romance\n",
      "------------------------\n",
      "Título: Mi vecino Totoro \n",
      "Duración: 1:26 \n",
      "Clasificación: AA \n",
      "Género: Aventura/Fantasia\n",
      "------------------------\n",
      "Título: Aura \n",
      "Duración: 1:30 \n",
      "Clasificación: A \n",
      "Género: Comedia/Romance\n",
      "------------------------\n"
     ]
    }
   ],
   "source": [
    "peli1 = Pelicula(\"Your Name\", \"1:50\", \"A\", \"Romance\")\n",
    "peli2 = Pelicula(\"Mi vecino Totoro\", \"1:26\", \"AA\", \"Aventura/Fantasia\")\n",
    "peli3 = Pelicula(\"Aura\", \"1:30\", \"A\", \"Comedia/Romance\")\n",
    "\n",
    "peli1.Detalles()\n",
    "peli2.Detalles()\n",
    "peli3.Detalles()"
   ]
  },
  {
   "cell_type": "code",
   "execution_count": 12,
   "metadata": {},
   "outputs": [],
   "source": [
    "class Funcion:\n",
    "    def __init__(self, hora, sala, pelicula):\n",
    "        self.hora = hora\n",
    "        self.sala = sala\n",
    "        self.pelicula = pelicula\n",
    "        self.asientos_disponibles = [f\"A{i}\" for i in range(1, 11)]  \n",
    "\n",
    "    def consultar_asientos(self):\n",
    "        print(f\"Asientos disponibles para: {self.pelicula.titulo}\\n Horario: {self.hora}\\nAsientos Disponibles:  {','.join(self.asientos_disponibles)}\\n__________________________________\")\n",
    "\n",
    "    def reservar_asientos(self, asiento):\n",
    "        if asiento in self.asientos_disponibles:  \n",
    "            self.asientos_disponibles.remove(asiento)  \n",
    "            return True \n",
    "        else:\n",
    "            print(\"Asiento no disponible\")  \n",
    "            return False  \n",
    "\n",
    "    def liberar_asiento(self, asiento):\n",
    "        if asiento not in self.asientos_disponibles: \n",
    "            self.asientos_disponibles.append(asiento)  \n",
    "        else:\n",
    "            print(f\"El asiento {asiento} ya está disponible.\")\n"
   ]
  },
  {
   "cell_type": "code",
   "execution_count": 25,
   "metadata": {},
   "outputs": [
    {
     "name": "stdout",
     "output_type": "stream",
     "text": [
      "Asientos disponibles para: Your Name\n",
      " Horario: 1:15\n",
      "Asientos Disponibles:  A1,A2,A3,A4,A5,A6,A7,A8,A9,A10\n",
      "__________________________________\n",
      "Asientos disponibles para: Your Name\n",
      " Horario: 1:15\n",
      "Asientos Disponibles:  A2,A3,A4,A5,A6,A7,A8,A9,A10\n",
      "__________________________________\n",
      "Asientos disponibles para: Mi vecino Totoro\n",
      " Horario: 2:30\n",
      "Asientos Disponibles:  A1,A2,A3,A4,A5,A6,A7,A8,A9,A10\n",
      "__________________________________\n",
      "Asiento no disponible\n",
      "Asientos disponibles para: Mi vecino Totoro\n",
      " Horario: 2:30\n",
      "Asientos Disponibles:  A1,A2,A3,A4,A6,A7,A8,A9,A10\n",
      "__________________________________\n",
      "Asientos disponibles para: Aura\n",
      " Horario: 2:30\n",
      "Asientos Disponibles:  A1,A2,A3,A4,A5,A6,A7,A8,A9,A10\n",
      "__________________________________\n",
      "Asientos disponibles para: Aura\n",
      " Horario: 2:30\n",
      "Asientos Disponibles:  A1,A2,A3,A4,A5,A6,A8,A9,A10\n",
      "__________________________________\n"
     ]
    }
   ],
   "source": [
    "fun1 = Funcion(\"1:15\", sal1, peli1)\n",
    "fun1.consultar_asientos()\n",
    "fun1.reservar_asientos(\"A1\")\n",
    "fun1.consultar_asientos()\n",
    "\n",
    "fun2 = Funcion(\"2:30\", sal2, peli2)\n",
    "fun2.consultar_asientos()\n",
    "fun2.reservar_asientos(\"A5\")\n",
    "fun2.reservar_asientos(\"A5\")\n",
    "fun2.consultar_asientos()\n",
    "\n",
    "fun3 = Funcion(\"2:30\", sal3, peli3)\n",
    "fun3.consultar_asientos()\n",
    "fun3.reservar_asientos(\"A7\")\n",
    "fun3.consultar_asientos()"
   ]
  },
  {
   "cell_type": "code",
   "execution_count": 13,
   "metadata": {},
   "outputs": [],
   "source": [
    "class Promocion:\n",
    "    def __init__(self, descuento, condicion):\n",
    "        self.descuento = descuento\n",
    "        self.condicion = condicion\n",
    "\n",
    "    def Aplicar_promo(self, usuario):\n",
    "        if self.condicion(usuario):\n",
    "            print(f\"Descuento del {self.descuento}% aplicado a {usuario.nombre}\")\n",
    "            return True\n",
    "        return False"
   ]
  },
  {
   "cell_type": "code",
   "execution_count": 26,
   "metadata": {},
   "outputs": [],
   "source": [
    "promo1 = Promocion(20, lambda usuario: usuario.nombre == \"Luis\")"
   ]
  },
  {
   "cell_type": "markdown",
   "metadata": {},
   "source": [
    "Reservar "
   ]
  },
  {
   "cell_type": "code",
   "execution_count": 32,
   "metadata": {},
   "outputs": [
    {
     "name": "stdout",
     "output_type": "stream",
     "text": [
      "Asientos disponibles para: Your Name\n",
      " Horario: 1:15\n",
      "Asientos Disponibles:  A2,A3,A4,A5,A6,A7,A8,A9\n",
      "__________________________________\n",
      "Reserva cancelada para Luis en asiento A10.\n",
      "Asientos disponibles para: Your Name\n",
      " Horario: 1:15\n",
      "Asientos Disponibles:  A2,A3,A4,A5,A6,A7,A8,A9,A10\n",
      "__________________________________\n",
      "Reserva confirmada para Juan en asiento A10 para la función Your Name.\n",
      "Asientos disponibles para: Aura\n",
      " Horario: 2:30\n",
      "Asientos Disponibles:  A1,A2,A3,A4,A5,A6,A8,A9,A10\n",
      "__________________________________\n",
      "Reserva confirmada para Pedro en asiento A5 para la función Aura.\n"
     ]
    },
    {
     "data": {
      "text/plain": [
       "True"
      ]
     },
     "execution_count": 32,
     "metadata": {},
     "output_type": "execute_result"
    }
   ],
   "source": [
    "fun1.consultar_asientos()\n",
    "res1 = Reserva(user1, fun1, \"A10\", promo1)\n",
    "res1.CancelarReserva()\n",
    "\n",
    "fun1.consultar_asientos()\n",
    "res2 = Reserva(user2, fun1, \"A10\")\n",
    "res2.ConfirmarReserva()\n",
    "\n",
    "fun3.consultar_asientos()\n",
    "res3 = Reserva(user3, fun3, \"A5\")\n",
    "res3.ConfirmarReserva()"
   ]
  }
 ],
 "metadata": {
  "kernelspec": {
   "display_name": "Python 3",
   "language": "python",
   "name": "python3"
  },
  "language_info": {
   "codemirror_mode": {
    "name": "ipython",
    "version": 3
   },
   "file_extension": ".py",
   "mimetype": "text/x-python",
   "name": "python",
   "nbconvert_exporter": "python",
   "pygments_lexer": "ipython3",
   "version": "3.13.1"
  }
 },
 "nbformat": 4,
 "nbformat_minor": 2
}
